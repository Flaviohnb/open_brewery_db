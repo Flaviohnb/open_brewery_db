{
 "cells": [
  {
   "cell_type": "code",
   "execution_count": 1,
   "id": "b6450b9f-8f86-424b-98c2-04a7cb100877",
   "metadata": {},
   "outputs": [],
   "source": [
    "from pyspark.sql import SparkSession\n",
    "import pyspark.sql.functions as F\n",
    "\n",
    "spark = SparkSession.builder.master(\"local\").getOrCreate()\n",
    "sc = spark.sparkContext"
   ]
  },
  {
   "cell_type": "code",
   "execution_count": 2,
   "id": "75e63bbd-6b31-4829-9514-d56cb94fca00",
   "metadata": {},
   "outputs": [],
   "source": [
    "df_silverBreweries = (\n",
    "    spark\n",
    "    .read\n",
    "    .option(\"basePath\", f\"../datalake/silver/breweries/\")\n",
    "    .parquet(f\"../datalake/silver/breweries/*\")\n",
    ")"
   ]
  },
  {
   "cell_type": "code",
   "execution_count": 10,
   "id": "7da2f02d-0a80-4fa7-a4e9-2fd7a9ae87b1",
   "metadata": {},
   "outputs": [],
   "source": [
    "df_aggBreweries = (\n",
    "    df_silverBreweries\n",
    "    .groupBy(\n",
    "        F.col('brewery_type'),\n",
    "        F.col('country')\n",
    "    )\n",
    "    .count()\n",
    "    .orderBy(\n",
    "        F.col('count').desc(),\n",
    "        F.col('brewery_type').desc(),\n",
    "        F.col('country').desc()\n",
    "    )\n",
    ")"
   ]
  },
  {
   "cell_type": "code",
   "execution_count": 11,
   "id": "489540f5-aad3-4dbd-9049-f1bc6b477790",
   "metadata": {},
   "outputs": [
    {
     "name": "stdout",
     "output_type": "stream",
     "text": [
      "+------------+-------------+-----+\n",
      "|brewery_type|      country|count|\n",
      "+------------+-------------+-----+\n",
      "|       micro|United States| 4160|\n",
      "|     brewpub|United States| 2420|\n",
      "|    planning|United States|  674|\n",
      "|      closed|United States|  245|\n",
      "|    regional|United States|  215|\n",
      "|    contract|United States|  188|\n",
      "|       large|United States|   74|\n",
      "|  proprietor|United States|   69|\n",
      "|     brewpub|  South Korea|   56|\n",
      "|       micro|      Ireland|   49|\n",
      "|       micro|      England|   40|\n",
      "|         bar|    Singapore|   28|\n",
      "|       micro|       Poland|   20|\n",
      "|        nano|United States|   12|\n",
      "|     taproom|      England|   11|\n",
      "|     brewpub|       Poland|   11|\n",
      "|       micro|       Sweden|   10|\n",
      "|       large|      Austria|   10|\n",
      "|     brewpub|      England|   10|\n",
      "|     taproom|United States|    9|\n",
      "+------------+-------------+-----+\n",
      "only showing top 20 rows\n",
      "\n"
     ]
    }
   ],
   "source": [
    "df_aggBreweries.show()"
   ]
  },
  {
   "cell_type": "code",
   "execution_count": 12,
   "id": "5f5a9ca5-7b0a-4b62-b119-295dcf08d20a",
   "metadata": {},
   "outputs": [],
   "source": [
    "(\n",
    "    df_aggBreweries\n",
    "    .coalesce(1)\n",
    "    .write    \n",
    "    .mode('overwrite')\n",
    "    .parquet(f\"../datalake/gold/aggBreweries/\")\n",
    ")"
   ]
  },
  {
   "cell_type": "code",
   "execution_count": null,
   "id": "aecf6c9a-0153-44cf-8447-5d62a5864231",
   "metadata": {},
   "outputs": [],
   "source": []
  }
 ],
 "metadata": {
  "kernelspec": {
   "display_name": "Python 3 (ipykernel)",
   "language": "python",
   "name": "python3"
  },
  "language_info": {
   "codemirror_mode": {
    "name": "ipython",
    "version": 3
   },
   "file_extension": ".py",
   "mimetype": "text/x-python",
   "name": "python",
   "nbconvert_exporter": "python",
   "pygments_lexer": "ipython3",
   "version": "3.11.6"
  }
 },
 "nbformat": 4,
 "nbformat_minor": 5
}
