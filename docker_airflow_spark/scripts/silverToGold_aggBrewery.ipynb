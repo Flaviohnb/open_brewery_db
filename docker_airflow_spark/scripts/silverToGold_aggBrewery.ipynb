{
 "cells": [
  {
   "cell_type": "code",
   "execution_count": 1,
   "id": "b6450b9f-8f86-424b-98c2-04a7cb100877",
   "metadata": {},
   "outputs": [],
   "source": [
    "from pyspark.sql import SparkSession\n",
    "import pyspark.sql.functions as F\n",
    "\n",
    "spark = SparkSession.builder.master(\"local\").getOrCreate()\n",
    "sc = spark.sparkContext"
   ]
  },
  {
   "cell_type": "code",
   "execution_count": 2,
   "id": "75e63bbd-6b31-4829-9514-d56cb94fca00",
   "metadata": {},
   "outputs": [],
   "source": [
    "df_silverBreweries = (\n",
    "    spark\n",
    "    .read\n",
    "    .option(\"basePath\", f\"../datalake/silver/breweries/\")\n",
    "    .parquet(f\"../datalake/silver/breweries/*\")\n",
    ")"
   ]
  },
  {
   "cell_type": "code",
   "execution_count": 3,
   "id": "7da2f02d-0a80-4fa7-a4e9-2fd7a9ae87b1",
   "metadata": {},
   "outputs": [],
   "source": [
    "df_aggBreweries = (\n",
    "    df_silverBreweries\n",
    "    .groupBy(\n",
    "        F.col('brewery_type'),\n",
    "        F.col('country'),\n",
    "        F.col('state')\n",
    "    )\n",
    "    .count()\n",
    ")"
   ]
  },
  {
   "cell_type": "code",
   "execution_count": 4,
   "id": "3af0fe62-fb2c-4b20-930d-e0f795b9a41e",
   "metadata": {},
   "outputs": [
    {
     "name": "stdout",
     "output_type": "stream",
     "text": [
      "+------------+-------------+---------------+-----+\n",
      "|brewery_type|      country|          state|count|\n",
      "+------------+-------------+---------------+-----+\n",
      "|    regional|United States|         Kansas|    1|\n",
      "|       large|      Austria|     Steiermark|    4|\n",
      "|       large|United States|     California|   15|\n",
      "|       micro|      Ireland|      Tipperary|    2|\n",
      "|     brewpub|  South Korea|      Gangwondo|    7|\n",
      "|     brewpub|United States|     California|  253|\n",
      "|       micro|United States|       Maryland|   52|\n",
      "|        nano|United States|   North Dakota|    2|\n",
      "|        nano|United States|  West Virginia|    1|\n",
      "|         bar|United States|         Nevada|    1|\n",
      "|       large|United States|        Georgia|    3|\n",
      "|        nano|United States|      Tennessee|    1|\n",
      "|       micro|      Ireland|         Offaly|    2|\n",
      "|     brewpub|  South Korea|    Jeollabukdo|    3|\n",
      "|     brewpub|  South Korea|          Deagu|    1|\n",
      "|       micro|United States|   Rhode Island|   20|\n",
      "|    planning|United States|       Virginia|   34|\n",
      "|       micro|       France|Bouche du Rhône|    3|\n",
      "|    planning|United States|        Georgia|   19|\n",
      "|    planning|United States|           Utah|    3|\n",
      "+------------+-------------+---------------+-----+\n",
      "only showing top 20 rows\n",
      "\n"
     ]
    }
   ],
   "source": [
    "df_aggBreweries.show()"
   ]
  },
  {
   "cell_type": "code",
   "execution_count": 5,
   "id": "5f5a9ca5-7b0a-4b62-b119-295dcf08d20a",
   "metadata": {},
   "outputs": [],
   "source": [
    "(\n",
    "    df_aggBreweries\n",
    "    .coalesce(1)\n",
    "    .write    \n",
    "    .mode('overwrite')\n",
    "    .parquet(f\"../datalake/gold/aggBreweries/\")\n",
    ")"
   ]
  },
  {
   "cell_type": "code",
   "execution_count": null,
   "id": "aecf6c9a-0153-44cf-8447-5d62a5864231",
   "metadata": {},
   "outputs": [],
   "source": []
  }
 ],
 "metadata": {
  "kernelspec": {
   "display_name": "Python 3 (ipykernel)",
   "language": "python",
   "name": "python3"
  },
  "language_info": {
   "codemirror_mode": {
    "name": "ipython",
    "version": 3
   },
   "file_extension": ".py",
   "mimetype": "text/x-python",
   "name": "python",
   "nbconvert_exporter": "python",
   "pygments_lexer": "ipython3",
   "version": "3.11.6"
  }
 },
 "nbformat": 4,
 "nbformat_minor": 5
}
