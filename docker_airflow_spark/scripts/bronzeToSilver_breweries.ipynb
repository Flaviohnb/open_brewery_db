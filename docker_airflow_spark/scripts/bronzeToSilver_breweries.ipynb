{
 "cells": [
  {
   "cell_type": "code",
   "execution_count": 1,
   "id": "b6450b9f-8f86-424b-98c2-04a7cb100877",
   "metadata": {},
   "outputs": [],
   "source": [
    "from pyspark.sql import SparkSession\n",
    "import pyspark.sql.functions as F\n",
    "from datetime import datetime, timedelta, timezone\n",
    "\n",
    "spark = SparkSession.builder.master(\"local\").getOrCreate()\n",
    "sc = spark.sparkContext"
   ]
  },
  {
   "cell_type": "code",
   "execution_count": 2,
   "id": "85747d75-fc70-4886-b610-cefe1ea16f7c",
   "metadata": {},
   "outputs": [],
   "source": [
    "utc_minus_3 = timezone(timedelta(hours=-3))\n",
    "\n",
    "_year = datetime.now(utc_minus_3).strftime(\"%Y\")\n",
    "_month = datetime.now(utc_minus_3).strftime(\"%m\")\n",
    "_day = datetime.now(utc_minus_3).strftime(\"%d\")"
   ]
  },
  {
   "cell_type": "code",
   "execution_count": 3,
   "id": "75e63bbd-6b31-4829-9514-d56cb94fca00",
   "metadata": {},
   "outputs": [],
   "source": [
    "df_bronzeBreweries = spark.read.option(\"multiLine\", False).json(f'../datalake/bronze/breweries/{_year}/{_month}/{_day}/breweries.json.gz')"
   ]
  },
  {
   "cell_type": "code",
   "execution_count": 4,
   "id": "7da2f02d-0a80-4fa7-a4e9-2fd7a9ae87b1",
   "metadata": {},
   "outputs": [],
   "source": [
    "df_silverBreweries = (\n",
    "    df_bronzeBreweries\n",
    "    .select(\n",
    "        F.col('id').cast('string'),\n",
    "        F.col('name').cast('string'),\n",
    "        F.col('brewery_type').cast('string'),\n",
    "        F.col('website_url').cast('string'),\n",
    "        F.col('phone').cast('string'),\n",
    "        F.col('postal_code').cast('string'),\n",
    "        F.col('state_province').cast('string'),\n",
    "        F.col('country').cast('string'),\n",
    "        F.col('state').cast('string'),\n",
    "        F.col('city').cast('string'),\n",
    "        F.col('street').cast('string'),\n",
    "        F.col('longitude').cast('string'),\n",
    "        F.col('latitude').cast('string'),\n",
    "        F.col('address_1').cast('string'),\n",
    "        F.col('address_2').cast('string'),\n",
    "        F.col('address_3').cast('string')\n",
    "    )    \n",
    ")"
   ]
  },
  {
   "cell_type": "code",
   "execution_count": 5,
   "id": "3af0fe62-fb2c-4b20-930d-e0f795b9a41e",
   "metadata": {},
   "outputs": [],
   "source": [
    "(\n",
    "    df_silverBreweries\n",
    "    .coalesce(1)\n",
    "    .write\n",
    "    .partitionBy(\"country\")\n",
    "    .mode('overwrite')\n",
    "    .parquet(f\"../datalake/silver/breweries/\")\n",
    ")"
   ]
  },
  {
   "cell_type": "code",
   "execution_count": null,
   "id": "5f5a9ca5-7b0a-4b62-b119-295dcf08d20a",
   "metadata": {},
   "outputs": [],
   "source": []
  }
 ],
 "metadata": {
  "kernelspec": {
   "display_name": "Python 3 (ipykernel)",
   "language": "python",
   "name": "python3"
  },
  "language_info": {
   "codemirror_mode": {
    "name": "ipython",
    "version": 3
   },
   "file_extension": ".py",
   "mimetype": "text/x-python",
   "name": "python",
   "nbconvert_exporter": "python",
   "pygments_lexer": "ipython3",
   "version": "3.11.6"
  }
 },
 "nbformat": 4,
 "nbformat_minor": 5
}
