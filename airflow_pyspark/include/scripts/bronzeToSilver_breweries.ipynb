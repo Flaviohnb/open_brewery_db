{
 "cells": [
  {
   "cell_type": "code",
   "execution_count": 1,
   "id": "b6450b9f-8f86-424b-98c2-04a7cb100877",
   "metadata": {},
   "outputs": [],
   "source": [
    "from pyspark.sql import SparkSession\n",
    "import pyspark.sql.functions as F\n",
    "from datetime import datetime, timedelta, timezone\n",
    "\n",
    "spark = SparkSession.builder.master(\"local\").getOrCreate()\n",
    "sc = spark.sparkContext"
   ]
  },
  {
   "cell_type": "code",
   "execution_count": null,
   "id": "85747d75-fc70-4886-b610-cefe1ea16f7c",
   "metadata": {},
   "outputs": [],
   "source": [
    "utc_minus_3 = timezone(timedelta(hours=-3))\n",
    "_year = datetime.now(utc_minus_3).strftime(\"%Y\")\n",
    "_month = datetime.now(utc_minus_3).strftime(\"%m\")\n",
    "_day = datetime.now(utc_minus_3).strftime(\"%d\")\n",
    "base_path = '/usr/local/airflow'"
   ]
  },
  {
   "cell_type": "code",
   "execution_count": null,
   "id": "75e63bbd-6b31-4829-9514-d56cb94fca00",
   "metadata": {},
   "outputs": [],
   "source": [
    "df_bronzeBreweries = spark.read.option(\"multiLine\", False).json(f'{base_path}/datalake/bronze/breweries/{_year}/{_month}/{_day}/breweries.json.gz')"
   ]
  },
  {
   "cell_type": "code",
   "execution_count": 5,
   "id": "7da2f02d-0a80-4fa7-a4e9-2fd7a9ae87b1",
   "metadata": {},
   "outputs": [],
   "source": [
    "df_silverBreweries = (\n",
    "    df_bronzeBreweries\n",
    "    .select(\n",
    "        F.col('id').cast('string'),\n",
    "        F.col('name').cast('string'),\n",
    "        F.col('brewery_type').cast('string'),\n",
    "        F.col('website_url').cast('string'),\n",
    "        F.col('phone').cast('string'),\n",
    "        F.col('postal_code').cast('string'),\n",
    "        F.col('state_province').cast('string'),\n",
    "        F.col('country').cast('string'),\n",
    "        F.col('state').cast('string'),\n",
    "        F.col('city').cast('string'),\n",
    "        F.col('street').cast('string'),\n",
    "        F.col('longitude').cast('string'),\n",
    "        F.col('latitude').cast('string'),\n",
    "        F.col('address_1').cast('string'),\n",
    "        F.col('address_2').cast('string'),\n",
    "        F.col('address_3').cast('string')\n",
    "    )    \n",
    ")"
   ]
  },
  {
   "cell_type": "code",
   "execution_count": 6,
   "id": "34f35555-b922-448f-9f34-2881ca2fd988",
   "metadata": {},
   "outputs": [
    {
     "name": "stdout",
     "output_type": "stream",
     "text": [
      "+------------------------------------+-------------------------------+------------+----------------------------------+------------+-----------+--------------+-------------+-------------+--------------+---------------------------+----------------+---------------+---------------------------+---------+---------+\n",
      "|id                                  |name                           |brewery_type|website_url                       |phone       |postal_code|state_province|country      |state        |city          |street                     |longitude       |latitude       |address_1                  |address_2|address_3|\n",
      "+------------------------------------+-------------------------------+------------+----------------------------------+------------+-----------+--------------+-------------+-------------+--------------+---------------------------+----------------+---------------+---------------------------+---------+---------+\n",
      "|5128df48-79fc-4f0f-8b52-d06be54d0cec|(405) Brewing Co               |micro       |http://www.405brewing.com         |4058160490  |73069-8224 |Oklahoma      |United States|Oklahoma     |Norman        |1716 Topeka St             |-97.46818222    |35.25738891    |1716 Topeka St             |NULL     |NULL     |\n",
      "|9c5a66c8-cc13-416f-a5d9-0a769c87d318|(512) Brewing Co               |micro       |http://www.512brewing.com         |5129211545  |78745-1197 |Texas         |United States|Texas        |Austin        |407 Radam Ln Ste F200      |NULL            |NULL           |407 Radam Ln Ste F200      |NULL     |NULL     |\n",
      "|34e8c68b-6146-453f-a4b9-1f6cd99a5ada|1 of Us Brewing Company        |micro       |https://www.1ofusbrewing.com      |2624847553  |53406-3920 |Wisconsin     |United States|Wisconsin    |Mount Pleasant|8100 Washington Ave        |-87.883363502094|42.720108268996|8100 Washington Ave        |NULL     |NULL     |\n",
      "|6d14b220-8926-4521-8d19-b98a2d6ec3db|10 Barrel Brewing Co           |large       |http://www.10barrel.com           |5415851007  |97701-9847 |Oregon        |United States|Oregon       |Bend          |62970 18th St              |-121.281706     |44.08683531    |62970 18th St              |NULL     |NULL     |\n",
      "|e2e78bd8-80ff-4a61-a65c-3bfbd9d76ce2|10 Barrel Brewing Co           |large       |NULL                              |5415851007  |97703-2465 |Oregon        |United States|Oregon       |Bend          |1135 NW Galveston Ave Ste B|-121.3288021    |44.0575649     |1135 NW Galveston Ave Ste B|NULL     |NULL     |\n",
      "|e432899b-7f58-455f-9c7b-9a6e2130a1e0|10 Barrel Brewing Co           |large       |http://www.10barrel.com           |5032241700  |97209-2620 |Oregon        |United States|Oregon       |Portland      |1411 NW Flanders St        |-122.6855056    |45.5259786     |1411 NW Flanders St        |NULL     |NULL     |\n",
      "|ef970757-fe42-416f-931d-722451f1f59c|10 Barrel Brewing Co           |large       |http://10barrel.com               |6195782311  |92101-6618 |California    |United States|California   |San Diego     |1501 E St                  |-117.129593     |32.714813      |1501 E St                  |NULL     |NULL     |\n",
      "|9f1852da-c312-42da-9a31-097bac81c4c0|10 Barrel Brewing Co - Bend Pub|large       |NULL                              |5415851007  |97701      |Oregon        |United States|Oregon       |Bend          |62950 NE 18th St           |-121.2809536    |44.0912109     |62950 NE 18th St           |NULL     |NULL     |\n",
      "|ea4f30c0-bce6-416b-8904-fab4055a7362|10 Barrel Brewing Co - Boise   |large       |http://www.10barrel.com           |2083445870  |83702-5857 |Idaho         |United States|Idaho        |Boise         |826 W Bannock St           |-116.202929     |43.618516      |826 W Bannock St           |NULL     |NULL     |\n",
      "|1988eb86-f0a2-4674-ba04-02454efa0d31|10 Barrel Brewing Co - Denver  |large       |NULL                              |7205738992  |80205-2231 |Colorado      |United States|Colorado     |Denver        |2620 Walnut St             |-104.9853655    |39.7592508     |2620 Walnut St             |NULL     |NULL     |\n",
      "|1ecc330f-6275-42a5-b14e-00adbed62752|10 Torr Distilling and Brewing |micro       |http://www.10torr.com             |7755307014  |89502      |Nevada        |United States|Nevada       |Reno          |490 Mill St                |-119.7732015    |39.5171702     |490 Mill St                |NULL     |NULL     |\n",
      "|7531dbd8-afc9-4b5b-95bc-7ece7f2c0bf3|10-56 Brewing Company          |micro       |NULL                              |6308165790  |46534      |Indiana       |United States|Indiana      |Knox          |400 Brown Cir              |-86.627954      |41.289715      |400 Brown Cir              |NULL     |NULL     |\n",
      "|5ae467af-66dc-4d7f-8839-44228f89b596|101 North Brewing Company      |closed      |http://www.101northbeer.com       |7077534934  |94954-7100 |California    |United States|California   |Petaluma      |1304 Scott St Ste D        |-122.665055     |38.27029381    |1304 Scott St Ste D        |NULL     |NULL     |\n",
      "|4ffda196-dd59-44a5-9eeb-5f7fd4b58f5a|105 West Brewing Co            |micro       |http://www.105westbrewing.com     |3033257321  |80109-1585 |Colorado      |United States|Colorado     |Castle Rock   |1043 Park St               |-104.8667206    |39.38269495    |1043 Park St               |NULL     |NULL     |\n",
      "|42aa37d5-8384-4ffe-8c81-7c982eff0384|10K Brewing                    |micro       |http://10KBrew.com                |7633924753  |55303-2243 |Minnesota     |United States|Minnesota    |Anoka         |2005 2nd Ave               |-93.38952559    |45.19812039    |2005 2nd Ave               |NULL     |NULL     |\n",
      "|232e8f62-9afc-45f5-b4bc-582c26b5c43b|10th District Brewing Company  |micro       |http://www.10thdistrictbrewing.com|7813071554  |02351-2419 |Massachusetts |United States|Massachusetts|Abington      |491 Washington St          |-70.94594149    |42.10591754    |491 Washington St          |NULL     |NULL     |\n",
      "|08f78223-24f8-4b71-b381-ea19a5bd82df|11 Below Brewing Company       |micro       |http://www.11belowbrewing.com     |2814442337  |77066-3107 |Texas         |United States|Texas        |Houston       |6820 Bourgeois Rd          |-95.5186591     |29.9515464     |6820 Bourgeois Rd          |NULL     |NULL     |\n",
      "|58293321-14ae-49d7-9a7b-08436c9e63a6|1188 Brewing Co                |brewpub     |http://www.1188brewing.com        |5415751188  |97845-1210 |Oregon        |United States|Oregon       |John Day      |141 E Main St              |-118.9218754    |44.4146563     |141 E Main St              |NULL     |NULL     |\n",
      "|e5f3e72a-fee2-4813-82cf-f2e53b439ae6|12 Acres Brewing Company       |micro       |https://12acresbrewing.ie/        |353599107299|R93 X3X8   |Laois         |Ireland      |Laois        |Killeshin     |Unnamed Street             |-6.979343891    |52.84930763    |Unnamed Street             |Clonmore |NULL     |\n",
      "|d81ff708-b5d2-478f-af6a-6d40f5beb9ac|12 Gates Brewing Company       |brewpub     |http://www.12gatesbrewing.com     |7169066600  |14221-7804 |New York      |United States|New York     |Williamsville |80 Earhart Dr Ste 20       |NULL            |NULL           |80 Earhart Dr Ste 20       |NULL     |NULL     |\n",
      "+------------------------------------+-------------------------------+------------+----------------------------------+------------+-----------+--------------+-------------+-------------+--------------+---------------------------+----------------+---------------+---------------------------+---------+---------+\n",
      "only showing top 20 rows\n",
      "\n"
     ]
    }
   ],
   "source": [
    "df_silverBreweries.show(truncate=False)"
   ]
  },
  {
   "cell_type": "code",
   "execution_count": null,
   "id": "3af0fe62-fb2c-4b20-930d-e0f795b9a41e",
   "metadata": {},
   "outputs": [],
   "source": [
    "(\n",
    "    df_silverBreweries\n",
    "    .coalesce(1)\n",
    "    .write\n",
    "    .partitionBy(\"country\")\n",
    "    .mode('overwrite')\n",
    "    .parquet(f\"{base_path}/datalake/silver/breweries/\")\n",
    ")"
   ]
  },
  {
   "cell_type": "code",
   "execution_count": null,
   "id": "5f5a9ca5-7b0a-4b62-b119-295dcf08d20a",
   "metadata": {},
   "outputs": [],
   "source": []
  }
 ],
 "metadata": {
  "kernelspec": {
   "display_name": "Python 3 (ipykernel)",
   "language": "python",
   "name": "python3"
  },
  "language_info": {
   "codemirror_mode": {
    "name": "ipython",
    "version": 3
   },
   "file_extension": ".py",
   "mimetype": "text/x-python",
   "name": "python",
   "nbconvert_exporter": "python",
   "pygments_lexer": "ipython3",
   "version": "3.11.6"
  }
 },
 "nbformat": 4,
 "nbformat_minor": 5
}
